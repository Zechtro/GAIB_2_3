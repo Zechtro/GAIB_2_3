{
 "cells": [
  {
   "cell_type": "code",
   "execution_count": 1,
   "metadata": {},
   "outputs": [],
   "source": [
    "import pandas as pd"
   ]
  },
  {
   "cell_type": "code",
   "execution_count": 4,
   "metadata": {},
   "outputs": [],
   "source": [
    "df = pd.read_csv(\"../dataset/SleepyDriverEEGBrainwave.csv\")"
   ]
  },
  {
   "cell_type": "code",
   "execution_count": 5,
   "metadata": {},
   "outputs": [
    {
     "name": "stdout",
     "output_type": "stream",
     "text": [
      "<class 'pandas.core.frame.DataFrame'>\n",
      "RangeIndex: 3735 entries, 0 to 3734\n",
      "Data columns (total 11 columns):\n",
      " #   Column          Non-Null Count  Dtype\n",
      "---  ------          --------------  -----\n",
      " 0   attention       3735 non-null   int64\n",
      " 1   meditation      3735 non-null   int64\n",
      " 2   delta           3735 non-null   int64\n",
      " 3   theta           3735 non-null   int64\n",
      " 4   lowAlpha        3735 non-null   int64\n",
      " 5   highAlpha       3735 non-null   int64\n",
      " 6   lowBeta         3735 non-null   int64\n",
      " 7   highBeta        3735 non-null   int64\n",
      " 8   lowGamma        3735 non-null   int64\n",
      " 9   highGamma       3735 non-null   int64\n",
      " 10  classification  3735 non-null   int64\n",
      "dtypes: int64(11)\n",
      "memory usage: 321.1 KB\n"
     ]
    }
   ],
   "source": [
    "df.info()"
   ]
  },
  {
   "cell_type": "code",
   "execution_count": null,
   "metadata": {},
   "outputs": [],
   "source": [
    "df.describe()"
   ]
  }
 ],
 "metadata": {
  "kernelspec": {
   "display_name": "Python 3",
   "language": "python",
   "name": "python3"
  },
  "language_info": {
   "codemirror_mode": {
    "name": "ipython",
    "version": 3
   },
   "file_extension": ".py",
   "mimetype": "text/x-python",
   "name": "python",
   "nbconvert_exporter": "python",
   "pygments_lexer": "ipython3",
   "version": "3.12.2"
  }
 },
 "nbformat": 4,
 "nbformat_minor": 2
}
